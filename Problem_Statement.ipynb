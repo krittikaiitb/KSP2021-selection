{
 "cells": [
  {
   "cell_type": "markdown",
   "id": "a9d08e6c",
   "metadata": {},
   "source": [
    "# Problem Statement\n",
    "In this problem, we want to study the orbit of a comet, whose <a href='https://en.wikipedia.org/wiki/Astrometry'>astrometry</a> data is provided. For this problem, make the following three important simplifying assumptions -\n",
    "<ol><li> The orbit of the earth is perfectly circular with radius = 1<a href='https://en.wikipedia.org/wiki/Astronomical_unit'>AU</a> and time period = 1 year</li>\n",
    "    <li> The orbit of the comet is coplanar to the orbit of the earth </li>\n",
    "    <li> Gravitational effects of the earth on the comet can be neglected</li>\n",
    "</ol>\n",
    "As usual, <a href='https://en.wikipedia.org/wiki/Kepler%27s_laws_of_planetary_motion'>Kepler's laws of planetary motion</a> are obeyed by all orbits.\n",
    "An astronomer (sitting on earth, naturally) has measured the distance of a certain comet from earth and the angle between the comet and the sun, as seen from earth (where a negative sign indicates that the comet is to the west of the sun). The time of observation after the first observation (in years), distance between earth and the comet (in AU) and the angle between the sun and the comet (in radians) is given in the data file CometData.csv. \n",
    "\n",
    "Your task, should you choose to attempt this problem, is to help the astronomer to determine whether the comet is moving in an elliptical or hyperbolic orbit around the sun, and what the time period is (if elliptic) or the distance of closest approach to the sun (if hyperbolic).\n",
    "\n",
    "You should submit a small writeup about your approach/method to this problem (can be a scanned handwritten document) and a jupyter notebook that implements this approach. You should explicitly calculate the eccentricity, and time period or distance of closest approach of the orbit (and include this value at the end of your writeup). Additionally, make a scatterplot of the position of the comet with respect to the sun. "
   ]
  },
  {
   "cell_type": "markdown",
   "id": "f0301c96",
   "metadata": {},
   "source": [
    "# Hints\n",
    "We expect that you are familiar with basic python (vanilla python, numpy,function and matplotlib) which is covered in the first four notebooks of <a href= 'https://github.com/krittikaiitb/tutorials'> Krittika Python Tutorials</a>. Apart from this, the following resources/hints might be specifically useful for this problem.\n",
    "### 1) Polar equation of Conic sections\n",
    "The equation of a general conic section, with eccentricity $e$ and length of semilatus-rectum $r_0$ is given by $$r(\\theta) = \\frac{r_0}{1+e \\cos(\\theta - \\theta_0)}$$ where the focus of this conic section is at the origin and $\\theta_0$ is the angle of 'tilting'. Recall further that $r_0 = a(1-e^2)$ where $a$ is the length of semimajor axis.\n",
    "### 2) scipy.optimize.curve_fit\n",
    "This library function can help you to fit a function to some given data. Official documentation for this function is given at <a href='https://docs.scipy.org/doc/scipy/reference/generated/scipy.optimize.curve_fit.html'>this link</a>. This is also covered in Tutorial 7 of the <a href= 'https://github.com/krittikaiitb/tutorials'> Krittika Python Tutorials</a>\n",
    "### 3) Polar plots with matplotlib\n",
    "Making polar plots with matplotlib is understandably important for this question. A demo of a polar scatter plot is provided in official matplotlib documentation at <a href='https://matplotlib.org/stable/gallery/pie_and_polar_charts/polar_scatter.html'>this link</a>. A similar demo for a line plot is given <a href='https://matplotlib.org/stable/gallery/pie_and_polar_charts/polar_demo.html'>here</a>."
   ]
  }
 ],
 "metadata": {
  "kernelspec": {
   "display_name": "Python 3",
   "language": "python",
   "name": "python3"
  },
  "language_info": {
   "codemirror_mode": {
    "name": "ipython",
    "version": 3
   },
   "file_extension": ".py",
   "mimetype": "text/x-python",
   "name": "python",
   "nbconvert_exporter": "python",
   "pygments_lexer": "ipython3",
   "version": "3.7.3"
  }
 },
 "nbformat": 4,
 "nbformat_minor": 5
}
